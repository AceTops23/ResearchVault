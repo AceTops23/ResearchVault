{
 "cells": [
  {
   "cell_type": "code",
   "execution_count": 1,
   "metadata": {},
   "outputs": [],
   "source": [
    "import pandas as pd\n",
    "from keras.preprocessing.text import Tokenizer\n",
    "import tensorflow as tf\n",
    "from tensorflow import keras\n",
    "from keras import layers\n",
    "from keras.layers import Dense\n",
    "from keras.preprocessing.sequence import pad_sequences\n",
    "import numpy as np"
   ]
  },
  {
   "cell_type": "code",
   "execution_count": 2,
   "metadata": {},
   "outputs": [
    {
     "name": "stdout",
     "output_type": "stream",
     "text": [
      "   ID    Title            IMRAD Section  IMRAD Section ID  \\\n",
      "0   1  Seekers             INTRODUCTION                 1   \n",
      "1   1  Seekers      RESEARCH OBJECTIVES                 2   \n",
      "2   1  Seekers  LITERATURE OF THE STUDY                 3   \n",
      "3   1  Seekers              METHODOLOGY                 4   \n",
      "4   1  Seekers              METHODOLOGY                 4   \n",
      "\n",
      "                Subsection  Subsection ID Sub subsection Sub subsection ID  \\\n",
      "0                      NaN              0            NaN                 0   \n",
      "1                      NaN              0            NaN                 0   \n",
      "2                      NaN              0            NaN                 0   \n",
      "3          Research Design             17            NaN                 0   \n",
      "4  Data Collection Methods              4     Local Data                 9   \n",
      "\n",
      "                                     Section Content  \n",
      "0  As people move into the new century, the issue...  \n",
      "1  This study designed, developed, tested, and ev...  \n",
      "2  It can be difficult for instructors to write e...  \n",
      "3  Local Data\\nThe researchers were able to gathe...  \n",
      "4  The researchers were able to gather a softcopy...  \n"
     ]
    }
   ],
   "source": [
    "df = pd.read_csv('Annotations.csv')\n",
    "\n",
    "df.columns = df.columns.str.strip()\n",
    "\n",
    "print(df.head())\n",
    "\n",
    "texts = df['Section Content'].tolist()\n",
    "\n",
    "tokenizer = Tokenizer()\n",
    "tokenizer.fit_on_texts(texts)\n",
    "\n",
    "vocab_size = len(tokenizer.word_index) + 1\n",
    "max_seq_len = max(len(text.split()) for text in texts)\n",
    "\n",
    "df = df.dropna(subset=['IMRAD Section'])\n",
    "df = df.drop(columns=['Title'])\n",
    "\n",
    "df = pd.get_dummies(df, columns=['IMRAD Section', 'Subsection', 'Sub subsection'], prefix=['IMRAD', 'Subsection', 'Subsubsection'])"
   ]
  },
  {
   "cell_type": "code",
   "execution_count": 3,
   "metadata": {},
   "outputs": [
    {
     "name": "stdout",
     "output_type": "stream",
     "text": [
      "Index(['ID', 'IMRAD Section ID', 'Subsection ID', 'Sub subsection ID',\n",
      "       'Section Content', 'IMRAD_CONCLUSION', 'IMRAD_CONCLUSION ',\n",
      "       'IMRAD_INTRODUCTION', 'IMRAD_LITERATURE OF THE STUDY',\n",
      "       'IMRAD_METHODOLOGY',\n",
      "       ...\n",
      "       'Subsubsection_Testing', 'Subsubsection_Text Classification:',\n",
      "       'Subsubsection_Text Recognition', 'Subsubsection_The Design',\n",
      "       'Subsubsection_The Design ', 'Subsubsection_The Development ',\n",
      "       'Subsubsection_The Development of the Web and Mobile Application ',\n",
      "       'Subsubsection_To Do List', 'Subsubsection_Train Recognizer Model',\n",
      "       'Subsubsection_User Interface '],\n",
      "      dtype='object', length=130)\n"
     ]
    }
   ],
   "source": [
    "print(df.columns)\n",
    "\n",
    "y_IMRAD = df.filter(regex='^IMRAD_(?!Section ID)')\n",
    "y_Subsection = df.filter(regex='^Subsection_(?!Subsection ID)')\n",
    "y_Subsubsection = df.filter(regex='^Subsubsection_(?!Subsubsection ID)')"
   ]
  },
  {
   "cell_type": "code",
   "execution_count": 4,
   "metadata": {},
   "outputs": [],
   "source": [
    "def hierarchical_attention_model(max_seq_len, vocab_size, embedding_dim, task):\n",
    "   input_layer = keras.layers.Input(shape=(max_seq_len,))\n",
    "   embeddings = keras.layers.Embedding(input_dim=vocab_size, output_dim=embedding_dim)(input_layer)\n",
    "\n",
    "   lstm_1 = keras.layers.Bidirectional(keras.layers.LSTM(64, return_sequences=True))(embeddings)\n",
    "   attention_1 = keras.layers.Attention()([lstm_1, lstm_1])\n",
    "   pooled_1 = keras.layers.GlobalAveragePooling1D()(attention_1)\n",
    "   \n",
    "   lstm_2 = keras.layers.Bidirectional(keras.layers.LSTM(64, return_sequences=True))(attention_1)\n",
    "   attention_2 = keras.layers.Attention()([lstm_2, lstm_2])\n",
    "   pooled_2 = keras.layers.GlobalAveragePooling1D()(attention_2)\n",
    "\n",
    "   lstm_3 = keras.layers.Bidirectional(keras.layers.LSTM(64, return_sequences=True))(attention_2)\n",
    "   attention_3 = keras.layers.Attention()([lstm_3, lstm_3])\n",
    "   pooled_3 = keras.layers.GlobalAveragePooling1D()(attention_3)\n",
    "\n",
    "   if task == 'IMRAD':\n",
    "       output = Dense(len(df.filter(like='IMRAD_').columns), activation='softmax')(pooled_1)\n",
    "       model = keras.models.Model(inputs=input_layer, outputs=output)\n",
    "       \n",
    "   elif task == 'Subsection':\n",
    "       output_Subsection = Dense(len(df.filter(like='Subsection_').columns), activation='softmax')(pooled_2)\n",
    "       model = keras.models.Model(inputs=input_layer, outputs=output_Subsection)\n",
    "       \n",
    "   elif task == 'Subsubsection':\n",
    "       output_Subsubsection = Dense(len(df.filter(like='Subsubsection').columns), activation='softmax')(pooled_3)\n",
    "       model = keras.models.Model(inputs=input_layer, outputs=output_Subsubsection)\n",
    "       \n",
    "   elif task == 'all':\n",
    "       output_IMRAD = Dense(len(df.filter(like='IMRAD').columns), activation='softmax')(pooled_1)\n",
    "       output_Subsection = Dense(len(df.filter(like='Subsection').columns), activation='softmax')(pooled_2)\n",
    "       output_Subsubsection = Dense(len(df.filter(like='Subsubsection').columns), activation='softmax')(pooled_3)\n",
    "\n",
    "       model = keras.models.Model(inputs=input_layer, outputs=[output_IMRAD, output_Subsection, output_Subsubsection])\n",
    "\n",
    "   return model\n"
   ]
  },
  {
   "cell_type": "code",
   "execution_count": 9,
   "metadata": {},
   "outputs": [],
   "source": [
    "vocab_size = 8971\n",
    "max_seq_len = 2073\n",
    "\n",
    "embedding_dim = min(50, (vocab_size // 2))\n",
    "\n",
    "model = hierarchical_attention_model(max_seq_len, vocab_size, embedding_dim, 'all')\n",
    "\n",
    "X = df['Section Content']\n",
    "y_IMRAD = df.filter(regex='^IMRAD_(?!Section ID)', axis=1)\n",
    "y_Subsection = df.filter(regex='^Subsection_(?!Subsection ID)', axis=1)\n",
    "y_Subsubsection = df.filter(regex='^Subsubsection_(?!Subsubsection ID)', axis=1)\n",
    "\n",
    "X = tokenizer.texts_to_sequences(X)\n",
    "\n",
    "X = pad_sequences(X, maxlen=max_seq_len)"
   ]
  },
  {
   "cell_type": "code",
   "execution_count": 10,
   "metadata": {},
   "outputs": [],
   "source": [
    "df.columns = df.columns.str.strip()\n",
    "y_IMRAD = y_IMRAD.astype(int)\n",
    "y_Subsection = y_Subsection.astype(int)\n",
    "y_Subsubsection = y_Subsubsection.astype(int)\n"
   ]
  },
  {
   "cell_type": "code",
   "execution_count": 11,
   "metadata": {},
   "outputs": [
    {
     "name": "stdout",
     "output_type": "stream",
     "text": [
      "17/17 [==============================] - 128s 7s/step - loss: 2.0284 - accuracy: 0.4137\n",
      "17/17 [==============================] - 301s 17s/step - loss: 2.3525 - accuracy: 0.1006\n",
      "17/17 [==============================] - 528s 30s/step - loss: 0.9688 - accuracy: 0.0114\n"
     ]
    },
    {
     "data": {
      "text/plain": [
       "<keras.src.callbacks.History at 0x19f29377b90>"
      ]
     },
     "execution_count": 11,
     "metadata": {},
     "output_type": "execute_result"
    }
   ],
   "source": [
    "model_IMRAD = hierarchical_attention_model(max_seq_len, vocab_size, embedding_dim, 'IMRAD')\n",
    "model_Subsection = hierarchical_attention_model(max_seq_len, vocab_size, embedding_dim, 'Subsection')\n",
    "model_Subsubsection = hierarchical_attention_model(max_seq_len, vocab_size, embedding_dim, 'Subsubsection')\n",
    "\n",
    "model_IMRAD.compile(loss='categorical_crossentropy', optimizer='adam', metrics=['accuracy'])\n",
    "model_Subsection.compile(loss='categorical_crossentropy', optimizer='adam', metrics=['accuracy'])\n",
    "model_Subsubsection.compile(loss='categorical_crossentropy', optimizer='adam', metrics=['accuracy'])\n",
    "\n",
    "epochs = 1\n",
    "batch_size = 32\n",
    "\n",
    "model_IMRAD.fit(X, y_IMRAD, epochs=epochs, batch_size=batch_size)\n",
    "\n",
    "model_Subsection.fit(X, y_Subsection, epochs=epochs, batch_size=batch_size)\n",
    "\n",
    "model_Subsubsection.fit(X, y_Subsubsection, epochs=epochs, batch_size=batch_size)"
   ]
  },
  {
   "cell_type": "code",
   "execution_count": 14,
   "metadata": {},
   "outputs": [
    {
     "name": "stdout",
     "output_type": "stream",
     "text": [
      "WARNING:tensorflow:Compiled the loaded model, but the compiled metrics have yet to be built. `model.compile_metrics` will be empty until you train or evaluate the model.\n"
     ]
    },
    {
     "name": "stderr",
     "output_type": "stream",
     "text": [
      "c:\\Users\\punio\\AppData\\Local\\Programs\\Python\\Python311\\Lib\\site-packages\\keras\\src\\engine\\training.py:3079: UserWarning: You are saving your model as an HDF5 file via `model.save()`. This file format is considered legacy. We recommend using instead the native Keras format, e.g. `model.save('my_model.keras')`.\n",
      "  saving_api.save_model(\n"
     ]
    }
   ],
   "source": [
    "# Save the entire model\n",
    "model.save('new model.h5')"
   ]
  },
  {
   "cell_type": "code",
   "execution_count": 13,
   "metadata": {},
   "outputs": [
    {
     "name": "stdout",
     "output_type": "stream",
     "text": [
      "Subsection_Algorithm Analysis                       2\n",
      "Subsection_Applied Concepts and Techniques          2\n",
      "Subsection_Conceptualization                        2\n",
      "Subsection_Data Collection Methods                  2\n",
      "Subsection_Data Model Generation                    2\n",
      "Subsection_Delete Stop Words                        2\n",
      "Subsection_Distribution of Questionnaire            2\n",
      "Subsection_Evaluation Phase                         2\n",
      "Subsection_Evaluation Tool                          2\n",
      "Subsection_Feature Extraction                       2\n",
      "Subsection_Lemmatization                            2\n",
      "Subsection_Locale of the Study                      2\n",
      "Subsection_Locale of the Study                      2\n",
      "Subsection_Lowercasing                              2\n",
      "Subsection_NONE                                     2\n",
      "Subsection_Numeric and Special Character Removal    2\n",
      "Subsection_Overall Record of Actual Testing         2\n",
      "Subsection_Population of the Study                  2\n",
      "Subsection_Population of the Study                  2\n",
      "Subsection_Pre-Processing                           2\n",
      "Subsection_Prototype Output                         2\n",
      "Subsection_RESEARCH OBJECTIVE 1:                    2\n",
      "Subsection_RESEARCH OBJECTIVE 1:                    2\n",
      "Subsection_RESEARCH OBJECTIVE 2:                    2\n",
      "Subsection_RESEARCH OBJECTIVE 2:                    2\n",
      "Subsection_RESEARCH OBJECTIVE 3:                    2\n",
      "Subsection_RESEARCH OBJECTIVE 3:                    2\n",
      "Subsection_RESEARCH OBJECTIVE 4:                    2\n",
      "Subsection_RESEARCH OBJECTIVE 5:                    2\n",
      "Subsection_RESEARCH OBJECTIVES:                     2\n",
      "Subsection_Research Design                          2\n",
      "Subsection_Sampling Procedure                       2\n",
      "Subsection_Sampling Procedure                       2\n",
      "Subsection_Software and Hardware Tools Used         2\n",
      "Subsection_Statistical Treatment                    2\n",
      "Subsection_Stemming                                 2\n",
      "Subsection_System Architecture                      2\n",
      "Subsection_System Architecture                      2\n",
      "Subsection_System Development Methodology           2\n",
      "Subsection_Testing Evaluation Procedure             2\n",
      "Subsection_Testing Tool                             2\n",
      "Subsection_The Design                               2\n",
      "Subsection_The Development                          2\n",
      "Subsection_Tokenization                             2\n",
      "Subsection_Validation of Questionnaire              2\n",
      "Subsection_Vectorization                            2\n",
      "dtype: int64\n",
      "Index(['Subsection_Algorithm Analysis',\n",
      "       'Subsection_Applied Concepts and Techniques',\n",
      "       'Subsection_Conceptualization', 'Subsection_Data Collection Methods',\n",
      "       'Subsection_Data Model Generation', 'Subsection_Delete Stop Words',\n",
      "       'Subsection_Distribution of Questionnaire',\n",
      "       'Subsection_Evaluation Phase', 'Subsection_Evaluation Tool',\n",
      "       'Subsection_Feature Extraction', 'Subsection_Lemmatization',\n",
      "       'Subsection_Locale of the Study', 'Subsection_Locale of the Study',\n",
      "       'Subsection_Lowercasing', 'Subsection_NONE',\n",
      "       'Subsection_Numeric and Special Character Removal',\n",
      "       'Subsection_Overall Record of Actual Testing',\n",
      "       'Subsection_Population of the Study',\n",
      "       'Subsection_Population of the Study', 'Subsection_Pre-Processing',\n",
      "       'Subsection_Prototype Output', 'Subsection_RESEARCH OBJECTIVE 1:',\n",
      "       'Subsection_RESEARCH OBJECTIVE 1:', 'Subsection_RESEARCH OBJECTIVE 2:',\n",
      "       'Subsection_RESEARCH OBJECTIVE 2:', 'Subsection_RESEARCH OBJECTIVE 3:',\n",
      "       'Subsection_RESEARCH OBJECTIVE 3:', 'Subsection_RESEARCH OBJECTIVE 4:',\n",
      "       'Subsection_RESEARCH OBJECTIVE 5:', 'Subsection_RESEARCH OBJECTIVES:',\n",
      "       'Subsection_Research Design', 'Subsection_Sampling Procedure',\n",
      "       'Subsection_Sampling Procedure',\n",
      "       'Subsection_Software and Hardware Tools Used',\n",
      "       'Subsection_Statistical Treatment', 'Subsection_Stemming',\n",
      "       'Subsection_System Architecture', 'Subsection_System Architecture',\n",
      "       'Subsection_System Development Methodology',\n",
      "       'Subsection_Testing Evaluation Procedure', 'Subsection_Testing Tool',\n",
      "       'Subsection_The Design', 'Subsection_The Development',\n",
      "       'Subsection_Tokenization', 'Subsection_Validation of Questionnaire',\n",
      "       'Subsection_Vectorization'],\n",
      "      dtype='object')\n"
     ]
    }
   ],
   "source": [
    "print(y_Subsection.nunique())\n",
    "print(df.filter(like='Subsection_').columns)\n"
   ]
  }
 ],
 "metadata": {
  "kernelspec": {
   "display_name": "Python 3",
   "language": "python",
   "name": "python3"
  },
  "language_info": {
   "codemirror_mode": {
    "name": "ipython",
    "version": 3
   },
   "file_extension": ".py",
   "mimetype": "text/x-python",
   "name": "python",
   "nbconvert_exporter": "python",
   "pygments_lexer": "ipython3",
   "version": "3.11.6"
  }
 },
 "nbformat": 4,
 "nbformat_minor": 2
}
